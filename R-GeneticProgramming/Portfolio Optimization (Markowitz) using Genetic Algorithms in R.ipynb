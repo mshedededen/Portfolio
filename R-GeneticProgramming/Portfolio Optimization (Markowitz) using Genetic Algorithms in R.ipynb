{
 "cells": [
  {
   "cell_type": "markdown",
   "metadata": {},
   "source": [
    "Name: Matthew Shedden\n",
    "\n",
    "ID: 202068657\n",
    "\n",
    "CS983: Evolutionary Computation for Finance I"
   ]
  },
  {
   "cell_type": "markdown",
   "metadata": {},
   "source": [
    "# Portfolio Optimisation using Genetic Algorithms (R)\n",
    "**About Genetic Algorithms**: An optimization and Machine Learning method that applies Neo-Darwinism evolutionary theory to perform an exhaustive search of all possible combinations. This is a fast method of optimisation as better solutions (and worse solutions) are used to create 'offspring' solutions.\n",
    "\n",
    "**Genetic Algorithms in the context of Portfolio Optimisation, under Markowitz PT**: Briefly, [Markowitz Portfolio theory](https://www.investopedia.com/terms/m/modernportfoliotheory.asp) is a commonly-used method to generate optimal portfolio allocations, where 'Return' is maximised and 'Risk' is minimised.\n",
    "\n",
    "**Project details**: We are going to using R and Genetic Algorithms to find the best possible weighting of a basket of stocks."
   ]
  },
  {
   "cell_type": "markdown",
   "metadata": {},
   "source": [
    "## 1 Selecting stocks\n",
    "Stock price information is retreived from [Quantmod](https://cran.r-project.org/web/packages/quantmod/index.html) ([Quandl](https://www.quandl.com/) is an alternative). Stocks chosen are indicated in the following table alongside Ticker, [GICS sector](https://www.msci.com/gics), and Size* (denoted by [Yahoo Finance](https://finance.yahoo.com/screener)). Price information is captured for years' 2015-2020.\n",
    "\n",
    "*Size: 5 stocks >= 10B (\"large / mega cap\"); 2B < 10B (\"mid cap\")\n",
    "\n",
    "| Sector | Size | Company | Ticker |\n",
    "| --- | --- | --- | --- |\n",
    "| Basic Materials | Large / Mega | Barrick Gold | GOLD |\n",
    "| Financial Services | Large / Mega | JP Morgan | JPM |\n",
    "| Healthcare | Large / Mega | Bristol-Myers Squibb | BMY |\n",
    "| Communication Services | Large / Mega | Verizon | VZ |\n",
    "| Industrials | Large / Mega | MMM | MMM |\n",
    "| Consumer Cyclical | Mid | Under Armor | UA |\n",
    "| Consumer Defensive | Mid | COTY | COTY |\n",
    "| Utilities | Mid | Enel Chile | ENIC |\n",
    "| Energy | Mid | Marathon Oil | MRO |\n",
    "| Technology | Mid | Dolby Laboratories | DLB |"
   ]
  },
  {
   "cell_type": "code",
   "execution_count": 1,
   "metadata": {
    "collapsed": true
   },
   "outputs": [
    {
     "name": "stderr",
     "output_type": "stream",
     "text": [
      "-- Attaching packages --------------------------------------- tidyverse 1.3.0 --\n",
      "v ggplot2 3.3.0     v purrr   0.3.4\n",
      "v tibble  3.0.3     v dplyr   1.0.2\n",
      "v tidyr   1.1.2     v stringr 1.4.0\n",
      "v readr   1.4.0     v forcats 0.5.0\n",
      "-- Conflicts ------------------------------------------ tidyverse_conflicts() --\n",
      "x dplyr::filter() masks stats::filter()\n",
      "x dplyr::lag()    masks stats::lag()\n",
      "Loading required package: xts\n",
      "Loading required package: zoo\n",
      "\n",
      "Attaching package: 'zoo'\n",
      "\n",
      "The following objects are masked from 'package:base':\n",
      "\n",
      "    as.Date, as.Date.numeric\n",
      "\n",
      "\n",
      "Attaching package: 'xts'\n",
      "\n",
      "The following objects are masked from 'package:dplyr':\n",
      "\n",
      "    first, last\n",
      "\n",
      "Loading required package: TTR\n",
      "Registered S3 method overwritten by 'quantmod':\n",
      "  method            from\n",
      "  as.zoo.data.frame zoo \n",
      "Loading required package: foreach\n",
      "\n",
      "Attaching package: 'foreach'\n",
      "\n",
      "The following objects are masked from 'package:purrr':\n",
      "\n",
      "    accumulate, when\n",
      "\n",
      "Loading required package: iterators\n",
      "Package 'GA' version 3.2\n",
      "Type 'citation(\"GA\")' for citing this R package in publications.\n",
      "\n",
      "Attaching package: 'GA'\n",
      "\n",
      "The following object is masked from 'package:utils':\n",
      "\n",
      "    de\n",
      "\n"
     ]
    }
   ],
   "source": [
    "#Setting global environment to hide warnings (this should be only used WHEN the code works 100% of the time)\n",
    "options(warn=-1)\n",
    "# Load universally useful packages: Tidyverse, Patchwork\n",
    "library(tidyverse)\n",
    "library(patchwork)\n",
    "# Load packages for retreiving stock price information: Quantmod\n",
    "library(quantmod)\n",
    "# Load packages required for running a Genetic Algorithm\n",
    "library(GA)"
   ]
  },
  {
   "cell_type": "markdown",
   "metadata": {},
   "source": [
    "To **test** the performance of Markowitz Portfolio Theory in practice, we shall download **two separate years** of data (train and test set, respectively)."
   ]
  },
  {
   "cell_type": "code",
   "execution_count": 2,
   "metadata": {},
   "outputs": [
    {
     "name": "stderr",
     "output_type": "stream",
     "text": [
      "'getSymbols' currently uses auto.assign=TRUE by default, but will\n",
      "use auto.assign=FALSE in 0.5-0. You will still be able to use\n",
      "'loadSymbols' to automatically load data. getOption(\"getSymbols.env\")\n",
      "and getOption(\"getSymbols.auto.assign\") will still be checked for\n",
      "alternate defaults.\n",
      "\n",
      "This message is shown once per session and may be disabled by setting \n",
      "options(\"getSymbols.warning4.0\"=FALSE). See ?getSymbols for details.\n",
      "\n",
      "pausing 1 second between requests for more than 5 symbols\n",
      "pausing 1 second between requests for more than 5 symbols\n",
      "pausing 1 second between requests for more than 5 symbols\n",
      "pausing 1 second between requests for more than 5 symbols\n",
      "pausing 1 second between requests for more than 5 symbols\n",
      "pausing 1 second between requests for more than 5 symbols\n"
     ]
    },
    {
     "data": {
      "text/html": [
       "<ol class=list-inline>\n",
       "\t<li>'GOLD'</li>\n",
       "\t<li>'JPM'</li>\n",
       "\t<li>'BMY'</li>\n",
       "\t<li>'VZ'</li>\n",
       "\t<li>'MMM'</li>\n",
       "\t<li>'UA'</li>\n",
       "\t<li>'COTY'</li>\n",
       "\t<li>'ENIC'</li>\n",
       "\t<li>'MRO'</li>\n",
       "\t<li>'DLB'</li>\n",
       "</ol>\n"
      ],
      "text/latex": [
       "\\begin{enumerate*}\n",
       "\\item 'GOLD'\n",
       "\\item 'JPM'\n",
       "\\item 'BMY'\n",
       "\\item 'VZ'\n",
       "\\item 'MMM'\n",
       "\\item 'UA'\n",
       "\\item 'COTY'\n",
       "\\item 'ENIC'\n",
       "\\item 'MRO'\n",
       "\\item 'DLB'\n",
       "\\end{enumerate*}\n"
      ],
      "text/markdown": [
       "1. 'GOLD'\n",
       "2. 'JPM'\n",
       "3. 'BMY'\n",
       "4. 'VZ'\n",
       "5. 'MMM'\n",
       "6. 'UA'\n",
       "7. 'COTY'\n",
       "8. 'ENIC'\n",
       "9. 'MRO'\n",
       "10. 'DLB'\n",
       "\n",
       "\n"
      ],
      "text/plain": [
       " [1] \"GOLD\" \"JPM\"  \"BMY\"  \"VZ\"   \"MMM\"  \"UA\"   \"COTY\" \"ENIC\" \"MRO\"  \"DLB\" "
      ]
     },
     "metadata": {},
     "output_type": "display_data"
    },
    {
     "name": "stderr",
     "output_type": "stream",
     "text": [
      "pausing 1 second between requests for more than 5 symbols\n",
      "pausing 1 second between requests for more than 5 symbols\n",
      "pausing 1 second between requests for more than 5 symbols\n",
      "pausing 1 second between requests for more than 5 symbols\n",
      "pausing 1 second between requests for more than 5 symbols\n",
      "pausing 1 second between requests for more than 5 symbols\n"
     ]
    },
    {
     "data": {
      "text/html": [
       "<ol class=list-inline>\n",
       "\t<li>'GOLD'</li>\n",
       "\t<li>'JPM'</li>\n",
       "\t<li>'BMY'</li>\n",
       "\t<li>'VZ'</li>\n",
       "\t<li>'MMM'</li>\n",
       "\t<li>'UA'</li>\n",
       "\t<li>'COTY'</li>\n",
       "\t<li>'ENIC'</li>\n",
       "\t<li>'MRO'</li>\n",
       "\t<li>'DLB'</li>\n",
       "</ol>\n"
      ],
      "text/latex": [
       "\\begin{enumerate*}\n",
       "\\item 'GOLD'\n",
       "\\item 'JPM'\n",
       "\\item 'BMY'\n",
       "\\item 'VZ'\n",
       "\\item 'MMM'\n",
       "\\item 'UA'\n",
       "\\item 'COTY'\n",
       "\\item 'ENIC'\n",
       "\\item 'MRO'\n",
       "\\item 'DLB'\n",
       "\\end{enumerate*}\n"
      ],
      "text/markdown": [
       "1. 'GOLD'\n",
       "2. 'JPM'\n",
       "3. 'BMY'\n",
       "4. 'VZ'\n",
       "5. 'MMM'\n",
       "6. 'UA'\n",
       "7. 'COTY'\n",
       "8. 'ENIC'\n",
       "9. 'MRO'\n",
       "10. 'DLB'\n",
       "\n",
       "\n"
      ],
      "text/plain": [
       " [1] \"GOLD\" \"JPM\"  \"BMY\"  \"VZ\"   \"MMM\"  \"UA\"   \"COTY\" \"ENIC\" \"MRO\"  \"DLB\" "
      ]
     },
     "metadata": {},
     "output_type": "display_data"
    }
   ],
   "source": [
    "# Retrieving 2018 data (training)\n",
    "myStocks <- c(\"GOLD\",\"JPM\",\"BMY\",\"VZ\",\"MMM\",\"UA\",\"COTY\",\"ENIC\",\"MRO\",\"DLB\")\n",
    "getSymbols(myStocks, src=\"yahoo\", from=\"2018-01-01\", to=\"2018-12-31\")\n",
    "RetData2018 <- data.frame(as.xts(merge(dailyReturn(GOLD), dailyReturn(JPM), dailyReturn(BMY),\n",
    "                                       dailyReturn(VZ), dailyReturn(MMM), dailyReturn(UA),\n",
    "                                       dailyReturn(COTY), dailyReturn(ENIC), dailyReturn(MRO), dailyReturn(DLB))))\n",
    "# Retrieving 2019 data (testing)\n",
    "getSymbols(myStocks, src=\"yahoo\", from=\"2019-01-01\", to=\"2019-12-31\")\n",
    "RetData2019 <- data.frame(as.xts(merge(dailyReturn(GOLD), dailyReturn(JPM), dailyReturn(BMY),\n",
    "                                       dailyReturn(VZ), dailyReturn(MMM), dailyReturn(UA),\n",
    "                                       dailyReturn(COTY), dailyReturn(ENIC), dailyReturn(MRO), dailyReturn(DLB))))\n",
    "# Renaming columns\n",
    "colnames(RetData2018) <- myStocks\n",
    "colnames(RetData2019) <- myStocks"
   ]
  },
  {
   "cell_type": "code",
   "execution_count": 3,
   "metadata": {},
   "outputs": [],
   "source": [
    "# Calculate mean daily returns\n",
    "MeanReturn2018 <- apply(RetData2018, MARGIN = 2, FUN = mean)\n",
    "MeanReturn2019 <- apply(RetData2019, MARGIN = 2, FUN = mean)\n",
    "# Calculate daily portfolio covariance\n",
    "Covariance2018 <- cov(RetData2018)\n",
    "Covariance2019 <- cov(RetData2019)\n",
    "# Calculating cumulative returns\n",
    "# 2018 data\n",
    "CumRetData2018 <- cbind(Date = row.names(RetData2018), mutate(cumprod(1+RetData2018)))\n",
    "CumRetData2018[,-1] <- CumRetData2018[,-1]-1\n",
    "CumRetData2018$Date <- as.Date(CumRetData2018$Date)\n",
    "# 2019 data\n",
    "CumRetData2019 <- cbind(Date = row.names(RetData2019), mutate(cumprod(1+RetData2019)))\n",
    "CumRetData2019[,-1] <- CumRetData2019[,-1]-1\n",
    "CumRetData2019$Date <- as.Date(CumRetData2019$Date)"
   ]
  },
  {
   "cell_type": "code",
   "execution_count": 4,
   "metadata": {},
   "outputs": [
    {
     "data": {
      "image/png": "[encoded data removed]",
      "text/plain": [
       "plot without title"
      ]
     },
     "metadata": {},
     "output_type": "display_data"
    },
    {
     "data": {
      "image/png": "[encoded data removed]",
      "text/plain": [
       "plot without title"
      ]
     },
     "metadata": {},
     "output_type": "display_data"
    }
   ],
   "source": [
    "# Visualising cumulative returns of stocks\n",
    "CumRetChart <- function(data, title){\n",
    "    CumRetData <- pivot_longer(data = data, cols = -Date, names_to = 'Ticker', values_to = 'CumRet')\n",
    "    ggplot(data = CumRetData) + geom_line(aes(x = Date, y = CumRet, colour = Ticker, group = Ticker), size = 1) +\n",
    "    facet_wrap('Ticker', nrow = 2) +\n",
    "    scale_x_date(date_breaks = \"1 year\", date_labels = '%Y') +\n",
    "    scale_y_continuous(labels = scales::percent) +\n",
    "    theme(legend.position = 'None', axis.text.x = element_text(angle = 45),\n",
    "          panel.background = element_blank(), panel.grid.major.x = element_blank(), panel.grid.minor.x = element_blank(),\n",
    "          panel.grid.major.y = element_line(colour = 'grey'), panel.grid.minor.y = element_line(colour = 'lightgrey')) +\n",
    "    labs(title = title)\n",
    "}\n",
    "\n",
    "CumRetChart(CumRetData2018, 'Portfolio cumulative returns for 2018')\n",
    "CumRetChart(CumRetData2019, 'Portfolio cumulative returns for 2019')"
   ]
  },
  {
   "cell_type": "markdown",
   "metadata": {},
   "source": [
    "# 2 Using Genetic Algorithms to identify optimal weights"
   ]
  },
  {
   "cell_type": "markdown",
   "metadata": {},
   "source": [
    "## 2.1 2018 portfolio returns"
   ]
  },
  {
   "cell_type": "code",
   "execution_count": 5,
   "metadata": {},
   "outputs": [],
   "source": [
    "# Defining an initial 'random' weight\n",
    "wt <- runif(n=length(myStocks))\n",
    "# Defining the fitness function\n",
    "OptimalWeight2018 <- function(wt){\n",
    "  wt <- wt / sum(wt)                              # weight\n",
    "  Return <- (sum(wt * MeanReturn2018)+1)^252-1    # returns\n",
    "  Risk <- sqrt(t(wt) %*% (Covariance2018 %*% wt)) # risk\n",
    "  Optimal <- Return / Risk                        # combination ('Sharpe ratio')\n",
    "  return(Optimal)\n",
    "}\n",
    "# Building genetic algorithm\n",
    "Optimizer2018 <- ga(type = \"real-valued\", fitness = OptimalWeight2018,\n",
    "                    lower = rep(x = 0,times = length(myStocks)),\n",
    "                    upper = rep(x = 1,times = length(myStocks)), maxiter = 1000, names = myStocks)\n",
    "Optimizer2018@solution <- Optimizer2018@solution / sum(Optimizer2018@solution)"
   ]
  },
  {
   "cell_type": "markdown",
   "metadata": {},
   "source": [
    "As is expected, the highest returning stock (UA) is paired with a stock with the lowest covariance (VZ) to return the optimal portfolio weighting, given returns for the year 2018."
   ]
  },
  {
   "cell_type": "markdown",
   "metadata": {},
   "source": [
    "## 2.2 2019 portfolio returns\n",
    "To test the '2018 portfolio' against new data (2019 returns and risk), a new GA shall be first created. Then, 'weights' shall be compared; and the variation in returns and risk as weights change."
   ]
  },
  {
   "cell_type": "code",
   "execution_count": 6,
   "metadata": {},
   "outputs": [],
   "source": [
    "# Defining the fitness function\n",
    "OptimalWeight2019 <- function(wt){\n",
    "  wt <- wt / sum(wt)\n",
    "  Return <- (sum(wt * MeanReturn2019)+1)^252-1\n",
    "  Risk <- sqrt(t(wt) %*% (Covariance2019 %*% wt))\n",
    "  Optimal <- Return / Risk\n",
    "  return(Optimal)\n",
    "}\n",
    "# Genetic Algorithm\n",
    "Optimizer2019 <- ga(type = \"real-valued\", fitness = OptimalWeight2019,\n",
    "                    lower = rep(x = 0,times = length(myStocks)),\n",
    "                    upper = rep(x = 1,times = length(myStocks)), maxiter = 1000,names = myStocks)\n",
    "Optimizer2019@solution <- Optimizer2019@solution / sum(Optimizer2019@solution)"
   ]
  },
  {
   "cell_type": "code",
   "execution_count": 7,
   "metadata": {},
   "outputs": [],
   "source": [
    "OptimizedPortfolios <- rbind(as.data.frame(Optimizer2018@solution), as.data.frame(Optimizer2019@solution))\n",
    "OptimizedPortfolios$Year <- c('2018', '2019')"
   ]
  },
  {
   "cell_type": "code",
   "execution_count": 8,
   "metadata": {},
   "outputs": [
    {
     "data": {
      "image/png": "[encoded data removed]",
      "text/plain": [
       "plot without title"
      ]
     },
     "metadata": {},
     "output_type": "display_data"
    }
   ],
   "source": [
    "# visualise differences between the portfolio\n",
    "pivot_longer(data = OptimizedPortfolios, cols = -Year, names_to = 'Ticker', values_to = 'Weight')  %>%\n",
    "    ggplot() + geom_col(aes(y = Ticker, x = Weight, fill = Year)) + facet_wrap('Year') +\n",
    "    scale_x_continuous(labels = scales::percent) + theme_minimal() +\n",
    "    labs(title = 'Optimized portfolios under Markowitz PT')"
   ]
  },
  {
   "cell_type": "markdown",
   "metadata": {},
   "source": [
    "# 3 Evaluating portfolios against random and optimized portfolios"
   ]
  },
  {
   "cell_type": "code",
   "execution_count": 9,
   "metadata": {},
   "outputs": [
    {
     "name": "stdout",
     "output_type": "stream",
     "text": [
      "The evolved portfolio, for the 2018 (train) set, gives a return portfolio return of:  19.6 % \n",
      "The evolved portfolio, for the 2019 (test) set, gives a return portfolio return of:  21.27 % \n",
      "\n",
      "The equally weighted portfolio, for the 2018 (train) set, gives a return portfolio return of:  -12.76 % \n",
      "The equally weighted portfolio, for the 2019 (test) set, gives a return portfolio return of:  24.57 % \n",
      "\n",
      "The 1st randomly weighted portfolio, for the 2018 (train) set, gives a return portfolio return of:  -4.45 % \n",
      "The 1st randomly weighted portfolio, for the 2019 (test) set, gives a return portfolio return of:  17.47 % \n",
      "\n",
      "The 2nd randomly weighted portfolio, for the 2018 (train) set, gives a return portfolio return of:  -8.68 % \n",
      "The 2nd randomly weighted portfolio, for the 2019 (test) set, gives a return portfolio return of:  27.04 %"
     ]
    }
   ],
   "source": [
    "weight_equal <- rep(x = 0.1,times = length(myStocks)) # equally weighted portfolio\n",
    "weight_rand1 <- runif(n=length(myStocks)) \n",
    "weight_rand1 <- weight_rand1 / sum(weight_rand1)      # randomly weighted portfolio (1)\n",
    "weight_rand2 <- runif(n=length(myStocks)) \n",
    "weight_rand2 <- weight_rand2 / sum(weight_rand2)      # randomly weighted portfolio (2)\n",
    "\n",
    "cat(\"The evolved portfolio, for the 2018 (train) set, gives a return portfolio return of: \",\n",
    "    round(((sum(Optimizer2018@solution * MeanReturn2018)+1)^252-1)*100,digits = 2),\"%\",\n",
    "    \"\\nThe evolved portfolio, for the 2019 (test) set, gives a return portfolio return of: \",\n",
    "    round(((sum(Optimizer2018@solution * MeanReturn2019)+1)^252-1)*100,digits = 2),\"%\",\n",
    "    \"\\n\\nThe equally weighted portfolio, for the 2018 (train) set, gives a return portfolio return of: \",\n",
    "    round(((sum(weight_equal * MeanReturn2018)+1)^252-1)*100,digits = 2),\"%\",\n",
    "    \"\\nThe equally weighted portfolio, for the 2019 (test) set, gives a return portfolio return of: \",\n",
    "    round(((sum(weight_equal * MeanReturn2019)+1)^252-1)*100,digits = 2),\"%\",\n",
    "    \"\\n\\nThe 1st randomly weighted portfolio, for the 2018 (train) set, gives a return portfolio return of: \",\n",
    "    round(((sum(weight_rand1 * MeanReturn2018)+1)^252-1)*100,digits = 2),\"%\",\n",
    "    \"\\nThe 1st randomly weighted portfolio, for the 2019 (test) set, gives a return portfolio return of: \",\n",
    "    round(((sum(weight_rand1 * MeanReturn2019)+1)^252-1)*100,digits = 2),\"%\",\n",
    "    \"\\n\\nThe 2nd randomly weighted portfolio, for the 2018 (train) set, gives a return portfolio return of: \",\n",
    "    round(((sum(weight_rand2 * MeanReturn2018)+1)^252-1)*100,digits = 2),\"%\",\n",
    "    \"\\nThe 2nd randomly weighted portfolio, for the 2019 (test) set, gives a return portfolio return of: \",\n",
    "    round(((sum(weight_rand2 * MeanReturn2019)+1)^252-1)*100,digits = 2),\"%\")"
   ]
  },
  {
   "cell_type": "markdown",
   "metadata": {},
   "source": [
    "Evaluating the performance of these random portfolios, the Optimised 2018 Portfolio is not the best performing portfolio on the test (2019) dataset! This makes one wonder the robustness of Markowitz portfolio optimisation, in practice."
   ]
  },
  {
   "cell_type": "markdown",
   "metadata": {},
   "source": [
    "## 4. Creation and evaluation of portfolios with differently balanced risk and return (to emulate a multi-objective approach)\n",
    "Within the fitness functions presented, risk and return values will be evenly balanced. This can be modified to create differently balanced portfolios - e.g. at the extremes might be ones which only care about maximising returns or are very risk averse, and in between might be ones which prioritise risk over return and vice-versa."
   ]
  },
  {
   "cell_type": "code",
   "execution_count": 10,
   "metadata": {},
   "outputs": [
    {
     "name": "stdout",
     "output_type": "stream",
     "text": [
      "The weighting of the 'Maximum Return' portfolio is:  0.008182235 0.05032755 0.02604702 0.03100394 0.02379811 0.822259 0.007346475 0.01557261 0.003689904 0.01177321"
     ]
    }
   ],
   "source": [
    "# 1. Maximum return\n",
    "MaximumReturn <- function(wt){\n",
    "  wt <- wt / sum(wt)                                  # weight\n",
    "  Return2018 <- (sum(wt * MeanReturn2018)+1)^252-1    # returns\n",
    "  return(Return2018)\n",
    "}\n",
    "MaximumReturnOptimizer <- ga(type = \"real-valued\", fitness = MaximumReturn,\n",
    "                             lower = rep(x = 0,times = length(myStocks)),\n",
    "                             upper = rep(x = 1,times = length(myStocks)), maxiter = 1000, names = myStocks, monitor = F)\n",
    "MaximumReturnOptimizer@solution <- MaximumReturnOptimizer@solution / sum(MaximumReturnOptimizer@solution)\n",
    "colnames(MaximumReturnOptimizer@solution) <- myStocks\n",
    "cat(\"The weighting of the 'Maximum Return' portfolio is: \", MaximumReturnOptimizer@solution)"
   ]
  },
  {
   "cell_type": "code",
   "execution_count": 11,
   "metadata": {},
   "outputs": [
    {
     "name": "stdout",
     "output_type": "stream",
     "text": [
      "The optimal weighting of the 'Minimum Risk' portfolio is:  0.1673997 0.1392809 0.1091254 0.2974529 0.007600579 0.001713965 0.03792936 0.09310462 0.00435706 0.1420356"
     ]
    }
   ],
   "source": [
    "# 2. Minimum risk\n",
    "MinimumRisk <- function(wt){\n",
    "  wt <- wt / sum(wt)                                  # weight\n",
    "  Risk2018 <- sqrt(t(wt) %*% (Covariance2018 %*% wt)) # risk\n",
    "  return(-Risk2018)                                   # '-' required for minimization problem\n",
    "}\n",
    "MinimumRiskOptimizer <- ga(type = \"real-valued\", fitness = MinimumRisk,\n",
    "                           lower = rep(x = 0,times = length(myStocks)),\n",
    "                           upper = rep(x = 1,times = length(myStocks)), maxiter = 1000, names = myStocks, monitor = F)\n",
    "MinimumRiskOptimizer@solution <- MinimumRiskOptimizer@solution / sum(MinimumRiskOptimizer@solution)\n",
    "colnames(MinimumRiskOptimizer@solution) <- myStocks\n",
    "cat(\"The optimal weighting of the 'Minimum Risk' portfolio is: \", MinimumRiskOptimizer@solution)"
   ]
  },
  {
   "cell_type": "code",
   "execution_count": 12,
   "metadata": {},
   "outputs": [
    {
     "name": "stdout",
     "output_type": "stream",
     "text": [
      "The optimal weighting of the 'Adventurous' portfolio is:  0.005151885 0.009261537 0.008968388 0.1089399 0.008821911 0.784126 0.0102307 0.01516346 0.03170104 0.01763516"
     ]
    }
   ],
   "source": [
    "# 3. 'Adventurous' (75:25 weighting)\n",
    "Adventurous <- function(wt){\n",
    "  wt <- wt / sum(wt)                                                    # weight\n",
    "  Return2018 <- (sum((wt*(75/25)) * MeanReturn2018)+1)^252-1            # greater returns\n",
    "  Risk2018 <- sqrt(t(wt*(75/25)) %*% (Covariance2018 %*% (wt*(75/25)))) # greater risk\n",
    "  Optimal2018 <- (Return2018 / Risk2018)                                # combination ('Sharpe ratio')\n",
    "  return(Optimal2018)\n",
    "}\n",
    "AdventurousOptimizer <- ga(type = \"real-valued\", fitness = Adventurous,\n",
    "                           lower = rep(x = 0,times = length(myStocks)),\n",
    "                           upper = rep(x = 1,times = length(myStocks)), maxiter = 1000, names = myStocks, monitor = F)\n",
    "AdventurousOptimizer@solution <- AdventurousOptimizer@solution / sum(AdventurousOptimizer@solution)\n",
    "colnames(AdventurousOptimizer@solution) <- myStocks\n",
    "cat(\"The optimal weighting of the 'Adventurous' portfolio is: \", AdventurousOptimizer@solution)"
   ]
  },
  {
   "cell_type": "code",
   "execution_count": 13,
   "metadata": {},
   "outputs": [
    {
     "name": "stdout",
     "output_type": "stream",
     "text": [
      "The optimal weighting of the 'Cautious' portfolio is:  0.007297523 0.02873834 0.01389894 0.4275236 0.01051892 0.4834116 0.001557222 0.005846442 0.0008088652 0.02039858"
     ]
    }
   ],
   "source": [
    "# 4. 'Cautious' (25:75 weighting)\n",
    "Cautious <- function(wt){\n",
    "  wt <- wt / sum(wt)                                                    # weight\n",
    "  Return2018 <- (sum((wt*(25/75)) * MeanReturn2018)+1)^252-1            # less returns\n",
    "  Risk2018 <- sqrt(t(wt*(25/75)) %*% (Covariance2018 %*% (wt*(25/75)))) # less risk\n",
    "  Optimal2018 <- (Return2018 / Risk2018)                                # combination ('Sharpe ratio')\n",
    "  return(Optimal2018)\n",
    "}\n",
    "CautiousOptimizer <- ga(type = \"real-valued\", fitness = Cautious,\n",
    "                        lower = rep(x = 0,times = length(myStocks)), \n",
    "                        upper = rep(x = 1,times = length(myStocks)), maxiter = 1000, names = myStocks, monitor = F)\n",
    "CautiousOptimizer@solution <- CautiousOptimizer@solution / sum(CautiousOptimizer@solution)\n",
    "colnames(CautiousOptimizer@solution) <- myStocks\n",
    "cat(\"The optimal weighting of the 'Cautious' portfolio is: \", CautiousOptimizer@solution)"
   ]
  },
  {
   "cell_type": "code",
   "execution_count": 14,
   "metadata": {},
   "outputs": [
    {
     "data": {
      "image/png": "[encoded data removed]",
      "text/plain": [
       "Plot with title \"Cautious portfolio\""
      ]
     },
     "metadata": {},
     "output_type": "display_data"
    }
   ],
   "source": [
    "par(mfrow = c(2,2))\n",
    "\n",
    "barplot(MaximumReturnOptimizer@solution,col=\"darkgreen\", horiz = T, xlim = c(0,1), las = 2,\n",
    "        xlab = \"Weight (decimal)\", ylab = \"Stock\", main=\"Maximum Return portfolio\") \n",
    "barplot(MinimumRiskOptimizer@solution,col=\"red\", horiz = T, xlim = c(0,1), las = 2, \n",
    "        xlab = \"Weight (decimal)\", ylab = \"Stock\", main=\"Minimum Risk portfolio\")\n",
    "barplot(AdventurousOptimizer@solution,col=\"yellow\", horiz = T, xlim = c(0,1), las = 2,\n",
    "        xlab = \"Weight (decimal)\", ylab = \"Stock\", main=\"Adventurous portfolio\") \n",
    "barplot(CautiousOptimizer@solution,col=\"blue\", horiz = T, xlim = c(0,1), las = 2,\n",
    "        xlab = \"Weight (decimal)\", ylab = \"Stock\", main=\"Cautious portfolio\")"
   ]
  },
  {
   "cell_type": "code",
   "execution_count": 15,
   "metadata": {},
   "outputs": [
    {
     "name": "stdout",
     "output_type": "stream",
     "text": [
      "The 'Maximum Return' portfolio, for the 2018 (train) set, gives a return of:  26.06 % \n",
      "The 'Maximum Return' portfolio, for the 2018 (train) set, gives a st.dev of:  0.03 \n",
      "\n",
      "The 'Minimum Risk' portfolio, for the 2018 (train) set, gives a return of:  -6.88 % \n",
      "The 'Minimum Risk' portfolio, for the 2018 (train) set, gives a st.dev of:  0.01 \n",
      "\n",
      "The 'Adventurous' portfolio, for the 2018 (train) set, gives a return of:  25.6 % \n",
      "The 'Adventurous' portfolio, for the 2018 (train) set, gives a st.dev of:  0.03 \n",
      "\n",
      "The 'Cautious' portfolio, for the 2018 (train) set, gives a return of:  17.94 % \n",
      "The 'Cautious' portfolio, for the 2018 (train) set, gives a st.dev of:  0.02"
     ]
    }
   ],
   "source": [
    "cat(\"The 'Maximum Return' portfolio, for the 2018 (train) set, gives a return of: \",\n",
    "    round(((sum(MaximumReturnOptimizer@solution * MeanReturn2018)+1)^252-1)*100,digits = 2),\"%\",\n",
    "    \"\\nThe 'Maximum Return' portfolio, for the 2018 (train) set, gives a st.dev of: \",\n",
    "    round(sqrt(t(as.numeric(MaximumReturnOptimizer@solution[1,])) %*%\n",
    "               (Covariance2018 %*% as.numeric(MaximumReturnOptimizer@solution[1,]))),2),\n",
    "    \"\\n\\nThe 'Minimum Risk' portfolio, for the 2018 (train) set, gives a return of: \",\n",
    "    round(((sum(MinimumRiskOptimizer@solution * MeanReturn2018)+1)^252-1)*100,digits = 2),\"%\",\n",
    "    \"\\nThe 'Minimum Risk' portfolio, for the 2018 (train) set, gives a st.dev of: \",\n",
    "    round(sqrt(t(as.numeric(MinimumRiskOptimizer@solution[1,])) %*%\n",
    "               (Covariance2018 %*% as.numeric(MinimumRiskOptimizer@solution[1,]))),2),\n",
    "    \"\\n\\nThe 'Adventurous' portfolio, for the 2018 (train) set, gives a return of: \",\n",
    "    round(((sum(AdventurousOptimizer@solution * MeanReturn2018)+1)^252-1)*100,digits = 2),\"%\",\n",
    "    \"\\nThe 'Adventurous' portfolio, for the 2018 (train) set, gives a st.dev of: \",\n",
    "    round(sqrt(t(as.numeric(AdventurousOptimizer@solution[1,])) %*%\n",
    "               (Covariance2018 %*% as.numeric(AdventurousOptimizer@solution[1,]))),2),\n",
    "    \"\\n\\nThe 'Cautious' portfolio, for the 2018 (train) set, gives a return of: \",\n",
    "    round(((sum(CautiousOptimizer@solution * MeanReturn2018)+1)^252-1)*100,digits = 2),\"%\",\n",
    "    \"\\nThe 'Cautious' portfolio, for the 2018 (train) set, gives a st.dev of: \",\n",
    "    round(sqrt(t(as.numeric(CautiousOptimizer@solution[1,])) %*% \n",
    "               (Covariance2018 %*% as.numeric(CautiousOptimizer@solution[1,]))),2))"
   ]
  },
  {
   "cell_type": "markdown",
   "metadata": {},
   "source": [
    "Clear differences persist in risk / return when maximising return or minimising risk."
   ]
  }
 ],
 "metadata": {
  "kernelspec": {
   "display_name": "R",
   "language": "R",
   "name": "ir"
  },
  "language_info": {
   "codemirror_mode": "r",
   "file_extension": ".r",
   "mimetype": "text/x-r-source",
   "name": "R",
   "pygments_lexer": "r",
   "version": "3.6.1"
  }
 },
 "nbformat": 4,
 "nbformat_minor": 4
}
