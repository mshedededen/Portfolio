{
 "cells": [
  {
   "cell_type": "markdown",
   "metadata": {},
   "source": [
    "Name: Matthew Shedden\n",
    "\n",
    "ID: 202068657\n",
    "\n",
    "CS983: Evolutionary Computation for Finance I"
   ]
  },
  {
   "cell_type": "markdown",
   "metadata": {},
   "source": [
    "# Week 2, Assignment (Portfolio Optimization problem)\n",
    "1. Select 10 stocks, from various sectors.\n",
    "2. Using GA, identify optimal portfolio weights, given risk and return. (8/20)\n",
    "3. Then, test the 'portfolio'...\n",
    "- ...against future data (e.g. 2020). (4/20)\n",
    "- ...against randomly weighted portfolios. (4/20)\n",
    "4. Evaluate portfolios with different balances of risk/reward. (4/20)"
   ]
  },
  {
   "cell_type": "code",
   "execution_count": 1,
   "metadata": {
    "collapsed": true
   },
   "outputs": [
    {
     "name": "stderr",
     "output_type": "stream",
     "text": [
      "Warning message:\n",
      "\"package 'quantmod' was built under R version 3.6.3\"Loading required package: xts\n",
      "Warning message:\n",
      "\"package 'xts' was built under R version 3.6.3\"Loading required package: zoo\n",
      "Warning message:\n",
      "\"package 'zoo' was built under R version 3.6.3\"\n",
      "Attaching package: 'zoo'\n",
      "\n",
      "The following objects are masked from 'package:base':\n",
      "\n",
      "    as.Date, as.Date.numeric\n",
      "\n",
      "Loading required package: TTR\n",
      "Warning message:\n",
      "\"package 'TTR' was built under R version 3.6.3\"Registered S3 method overwritten by 'quantmod':\n",
      "  method            from\n",
      "  as.zoo.data.frame zoo \n",
      "Warning message:\n",
      "\"package 'GA' was built under R version 3.6.3\"Loading required package: foreach\n",
      "Warning message:\n",
      "\"package 'foreach' was built under R version 3.6.3\"Loading required package: iterators\n",
      "Warning message:\n",
      "\"package 'iterators' was built under R version 3.6.3\"Package 'GA' version 3.2\n",
      "Type 'citation(\"GA\")' for citing this R package in publications.\n",
      "\n",
      "Attaching package: 'GA'\n",
      "\n",
      "The following object is masked from 'package:utils':\n",
      "\n",
      "    de\n",
      "\n",
      "Warning message:\n",
      "\"package 'dplyr' was built under R version 3.6.3\"\n",
      "Attaching package: 'dplyr'\n",
      "\n",
      "The following objects are masked from 'package:xts':\n",
      "\n",
      "    first, last\n",
      "\n",
      "The following objects are masked from 'package:stats':\n",
      "\n",
      "    filter, lag\n",
      "\n",
      "The following objects are masked from 'package:base':\n",
      "\n",
      "    intersect, setdiff, setequal, union\n",
      "\n"
     ]
    }
   ],
   "source": [
    "# load packages\n",
    "library(quantmod)\n",
    "library(GA)\n",
    "library(dplyr)"
   ]
  },
  {
   "cell_type": "markdown",
   "metadata": {},
   "source": [
    "## Select 10 stocks, from various sectors.\n",
    "To select a good variety of stocks, I chose to select based on:\n",
    "- Exchange: NYSE and NASDAQ, since data is plentiful.\n",
    "- Sector: I selected 1 stock per 10/11 GICS sectors (excluding real estate) [www.msci.com/gics]\n",
    "- Size: 5 stocks >= 10B (\"large / mega cap\"); 2B < 10B (\"mid cap\")\n",
    "Method: www.finance.yahoo.com/screener\n",
    "\n",
    "Chosen stocks were:\n",
    "\n",
    "| Sector | Size | Company | Ticker |\n",
    "| --- | --- | --- | --- |\n",
    "| Basic Materials | Large / Mega | Barrick Gold | GOLD |\n",
    "| Financial Services | Large / Mega | JP Morgan | JPM |\n",
    "| Healthcare | Large / Mega | Bristol-Myers Squibb | BMY |\n",
    "| Communication Services | Large / Mega | Verizon | VZ |\n",
    "| Industrials | Large / Mega | MMM | MMM |\n",
    "| Consumer Cyclical | Mid | Under Armor | UA |\n",
    "| Consumer Defensive | Mid | COTY | COTY |\n",
    "| Utilities | Mid | Enel Chile | ENIC |\n",
    "| Energy | Mid | Marathon Oil | MRO |\n",
    "| Technology | Mid | Dolby Laboratories | DLB |"
   ]
  },
  {
   "cell_type": "code",
   "execution_count": 2,
   "metadata": {
    "collapsed": true
   },
   "outputs": [
    {
     "name": "stderr",
     "output_type": "stream",
     "text": [
      "'getSymbols' currently uses auto.assign=TRUE by default, but will\n",
      "use auto.assign=FALSE in 0.5-0. You will still be able to use\n",
      "'loadSymbols' to automatically load data. getOption(\"getSymbols.env\")\n",
      "and getOption(\"getSymbols.auto.assign\") will still be checked for\n",
      "alternate defaults.\n",
      "\n",
      "This message is shown once per session and may be disabled by setting \n",
      "options(\"getSymbols.warning4.0\"=FALSE). See ?getSymbols for details.\n",
      "\n",
      "pausing 1 second between requests for more than 5 symbols\n",
      "pausing 1 second between requests for more than 5 symbols\n",
      "pausing 1 second between requests for more than 5 symbols\n",
      "pausing 1 second between requests for more than 5 symbols\n",
      "pausing 1 second between requests for more than 5 symbols\n",
      "pausing 1 second between requests for more than 5 symbols\n"
     ]
    },
    {
     "data": {
      "text/html": [
       "<ol class=list-inline>\n",
       "\t<li>'GOLD'</li>\n",
       "\t<li>'JPM'</li>\n",
       "\t<li>'BMY'</li>\n",
       "\t<li>'VZ'</li>\n",
       "\t<li>'MMM'</li>\n",
       "\t<li>'UA'</li>\n",
       "\t<li>'COTY'</li>\n",
       "\t<li>'ENIC'</li>\n",
       "\t<li>'MRO'</li>\n",
       "\t<li>'DLB'</li>\n",
       "</ol>\n"
      ],
      "text/latex": [
       "\\begin{enumerate*}\n",
       "\\item 'GOLD'\n",
       "\\item 'JPM'\n",
       "\\item 'BMY'\n",
       "\\item 'VZ'\n",
       "\\item 'MMM'\n",
       "\\item 'UA'\n",
       "\\item 'COTY'\n",
       "\\item 'ENIC'\n",
       "\\item 'MRO'\n",
       "\\item 'DLB'\n",
       "\\end{enumerate*}\n"
      ],
      "text/markdown": [
       "1. 'GOLD'\n",
       "2. 'JPM'\n",
       "3. 'BMY'\n",
       "4. 'VZ'\n",
       "5. 'MMM'\n",
       "6. 'UA'\n",
       "7. 'COTY'\n",
       "8. 'ENIC'\n",
       "9. 'MRO'\n",
       "10. 'DLB'\n",
       "\n",
       "\n"
      ],
      "text/plain": [
       " [1] \"GOLD\" \"JPM\"  \"BMY\"  \"VZ\"   \"MMM\"  \"UA\"   \"COTY\" \"ENIC\" \"MRO\"  \"DLB\" "
      ]
     },
     "metadata": {},
     "output_type": "display_data"
    }
   ],
   "source": [
    "# Retrieving data\n",
    "myStocks <- c(\"GOLD\",\"JPM\",\"BMY\",\"VZ\",\"MMM\",\"UA\",\"COTY\",\"ENIC\",\"MRO\",\"DLB\")\n",
    "getSymbols(myStocks, src=\"yahoo\", from=\"2018-01-01\", to=\"2019-01-01\")"
   ]
  },
  {
   "cell_type": "code",
   "execution_count": 3,
   "metadata": {},
   "outputs": [],
   "source": [
    "# Calculate daily returns, renaming columns\n",
    "RetData2018 <- data.frame(as.xts(merge(dailyReturn(GOLD), dailyReturn(JPM), dailyReturn(BMY),\n",
    "                                       dailyReturn(VZ), dailyReturn(MMM), dailyReturn(UA),\n",
    "                                       dailyReturn(COTY), dailyReturn(ENIC), dailyReturn(MRO), dailyReturn(DLB))))\n",
    "colnames(RetData2018) <- myStocks\n",
    "# Calculate mean daily returns\n",
    "MeanReturn2018 <- apply(RetData2018, MARGIN = 2, FUN = mean)\n",
    "# Calculate daily portfolio covariance\n",
    "Covariance2018 <- cov(RetData2018)"
   ]
  },
  {
   "cell_type": "markdown",
   "metadata": {},
   "source": [
    "## 1. Using GA, identify optimal portfolio weights, given risk and return."
   ]
  },
  {
   "cell_type": "code",
   "execution_count": 4,
   "metadata": {},
   "outputs": [],
   "source": [
    "# Defining an initial 'random' weight\n",
    "wt <- runif(n=length(myStocks))\n",
    "# Defining the fitness function\n",
    "OptimalWeight2018 <- function(wt){\n",
    "  wt <- wt / sum(wt)                              # weight\n",
    "  Return <- (sum(wt * MeanReturn2018)+1)^252-1    # returns\n",
    "  Risk <- sqrt(t(wt) %*% (Covariance2018 %*% wt)) # risk\n",
    "  Optimal <- Return / Risk                        # combination ('Sharpe ratio')\n",
    "  return(Optimal)\n",
    "}"
   ]
  },
  {
   "cell_type": "code",
   "execution_count": 49,
   "metadata": {
    "scrolled": false
   },
   "outputs": [
    {
     "name": "stdout",
     "output_type": "stream",
     "text": [
      "The optimal weighting of the 2018 portfolio is:\n",
      "           GOLD        JPM         BMY        VZ        MMM        UA\n",
      "[1,] 0.03697057 0.01184961 0.007240047 0.4372726 0.01161083 0.4594124\n",
      "            COTY       ENIC         MRO        DLB\n",
      "[1,] 0.001762522 0.01025108 0.005976546 0.01765382\n"
     ]
    },
    {
     "data": {
      "image/png": "[encoded data removed]",
      "text/plain": [
       "Plot with title \"Optimized portfolio weights, for 2018 data\""
      ]
     },
     "metadata": {},
     "output_type": "display_data"
    }
   ],
   "source": [
    "# Building genetic algorithm\n",
    "Optimizer2018 <- ga(type = \"real-valued\", fitness = OptimalWeight2018,\n",
    "                    lower = rep(x = 0,times = length(myStocks)),\n",
    "                    upper = rep(x = 1,times = length(myStocks)), maxiter = 1000, names = myStocks)\n",
    "Optimizer2018@solution <- Optimizer2018@solution / sum(Optimizer2018@solution)\n",
    "cat(\"The optimal weighting of the 2018 portfolio is:\\n\")\n",
    "colnames(Optimizer2018@solution) <- myStocks\n",
    "print(Optimizer2018@solution)\n",
    "barplot(Optimizer2018@solution, xlab = \"Weight (decimal)\", ylab = \"Stock\",\n",
    "        main = \"Optimized portfolio weights, for 2018 data\", horiz = T, xlim = c(0,.5), las = 2)"
   ]
  },
  {
   "cell_type": "markdown",
   "metadata": {},
   "source": [
    "## 2. Test the 'portfolio'... against future data\n",
    "My take: To test the '2018 portfolio' against new data (2019 returns and risk), a new GA shall be first created. Then, 'weights' shall be compared; and the variation in returns and risk as weights change.\n",
    "\n",
    "\"To do this you will need to keep back some of your data (like a standard train/test split). For example, you might have trained your portfolio using data from 2019 to give you a set of weights. Then, keeping these weights constant, use them to calculate the returns from 2020  data. This should be a very simple calculation.\""
   ]
  },
  {
   "cell_type": "code",
   "execution_count": 6,
   "metadata": {
    "collapsed": true
   },
   "outputs": [
    {
     "name": "stderr",
     "output_type": "stream",
     "text": [
      "pausing 1 second between requests for more than 5 symbols\n",
      "pausing 1 second between requests for more than 5 symbols\n",
      "pausing 1 second between requests for more than 5 symbols\n",
      "pausing 1 second between requests for more than 5 symbols\n",
      "pausing 1 second between requests for more than 5 symbols\n",
      "pausing 1 second between requests for more than 5 symbols\n"
     ]
    },
    {
     "data": {
      "text/html": [
       "<ol class=list-inline>\n",
       "\t<li>'GOLD'</li>\n",
       "\t<li>'JPM'</li>\n",
       "\t<li>'BMY'</li>\n",
       "\t<li>'VZ'</li>\n",
       "\t<li>'MMM'</li>\n",
       "\t<li>'UA'</li>\n",
       "\t<li>'COTY'</li>\n",
       "\t<li>'ENIC'</li>\n",
       "\t<li>'MRO'</li>\n",
       "\t<li>'DLB'</li>\n",
       "</ol>\n"
      ],
      "text/latex": [
       "\\begin{enumerate*}\n",
       "\\item 'GOLD'\n",
       "\\item 'JPM'\n",
       "\\item 'BMY'\n",
       "\\item 'VZ'\n",
       "\\item 'MMM'\n",
       "\\item 'UA'\n",
       "\\item 'COTY'\n",
       "\\item 'ENIC'\n",
       "\\item 'MRO'\n",
       "\\item 'DLB'\n",
       "\\end{enumerate*}\n"
      ],
      "text/markdown": [
       "1. 'GOLD'\n",
       "2. 'JPM'\n",
       "3. 'BMY'\n",
       "4. 'VZ'\n",
       "5. 'MMM'\n",
       "6. 'UA'\n",
       "7. 'COTY'\n",
       "8. 'ENIC'\n",
       "9. 'MRO'\n",
       "10. 'DLB'\n",
       "\n",
       "\n"
      ],
      "text/plain": [
       " [1] \"GOLD\" \"JPM\"  \"BMY\"  \"VZ\"   \"MMM\"  \"UA\"   \"COTY\" \"ENIC\" \"MRO\"  \"DLB\" "
      ]
     },
     "metadata": {},
     "output_type": "display_data"
    }
   ],
   "source": [
    "# Get stocks data for 2019\n",
    "getSymbols(myStocks, src=\"yahoo\", from=\"2019-01-01\", to=\"2020-01-01\")\n",
    "RetData2019 <- data.frame(as.xts(merge(dailyReturn(GOLD), dailyReturn(JPM), dailyReturn(BMY),\n",
    "                                       dailyReturn(VZ), dailyReturn(MMM), dailyReturn(UA),\n",
    "                                       dailyReturn(COTY), dailyReturn(ENIC), dailyReturn(MRO), dailyReturn(DLB))))\n",
    "colnames(RetData2019) <- myStocks\n",
    "# Calculate mean daily returns\n",
    "MeanReturn2019 <- apply(RetData2019, MARGIN = 2, FUN = mean)\n",
    "# Calculate daily portfolio covariance\n",
    "Covariance2019 <- cov(RetData2018)"
   ]
  },
  {
   "cell_type": "code",
   "execution_count": 7,
   "metadata": {},
   "outputs": [],
   "source": [
    "# Defining the fitness function\n",
    "OptimalWeight2019 <- function(wt){\n",
    "  wt <- wt / sum(wt)\n",
    "  Return <- (sum(wt * MeanReturn2019)+1)^252-1\n",
    "  Risk <- sqrt(t(wt) %*% (Covariance2019 %*% wt))\n",
    "  Optimal <- Return / Risk\n",
    "  return(Optimal)\n",
    "}\n",
    "# Genetic Algorithm\n",
    "Optimizer2019 <- ga(type = \"real-valued\", fitness = OptimalWeight2019,\n",
    "                    lower = rep(x = 0,times = length(myStocks)),\n",
    "                    upper = rep(x = 1,times = length(myStocks)), maxiter = 1000,names = myStocks)\n",
    "Optimizer2019@solution <- Optimizer2019@solution / sum(Optimizer2019@solution)"
   ]
  },
  {
   "cell_type": "code",
   "execution_count": 119,
   "metadata": {},
   "outputs": [
    {
     "name": "stdout",
     "output_type": "stream",
     "text": [
      "In 2018, the optimised '2018' portfolio generates returns of:  18.69 %\n",
      "In 2019, the optimised '2018' portfolio generates returns of:  21.04 %\n",
      "\n",
      "This is curious. Let's evaluate the optimised '2018' portfolio against an optimised '2019' portfolio.\n",
      "\n",
      "The returns provided by the '2018 portfolio' is:  21.04 %\n",
      "The returns provided by the '2019 portfolio' is:  54.21 %\n",
      "\n",
      "The optimised '2018' portfolio performs well. Yet, this is far from the optimal portfolio for 2019 (test) data."
     ]
    }
   ],
   "source": [
    "# 2018 vs. 2019 returns for the optimised portfolio\n",
    "cat(\"In 2018, the optimised '2018' portfolio generates returns of: \",\n",
    "    round(((sum(Optimizer2018@solution * MeanReturn2018)+1)^252-1)*100,digits = 2),\"%\")\n",
    "cat(\"\\nIn 2019, the optimised '2018' portfolio generates returns of: \",\n",
    "    round(((sum(Optimizer2018@solution * MeanReturn2019)+1)^252-1)*100,digits = 2),\"%\")\n",
    "cat(\"\\n\\nThis is curious. Let's evaluate the optimised '2018' portfolio against an optimised '2019' portfolio.\")\n",
    "# Comparing 2019 returns for the optimised portfolio against a new '2019' optimised portfolio\n",
    "cat(\"\\n\\nThe returns provided by the '2018 portfolio' is: \",\n",
    "    round(((sum(Optimizer2018@solution * MeanReturn2019)+1)^252-1)*100,digits = 2),\"%\")\n",
    "cat(\"\\nThe returns provided by the '2019 portfolio' is: \",\n",
    "    round(((sum(Optimizer2019@solution * MeanReturn2019)+1)^252-1)*100,digits = 2),\"%\")\n",
    "cat(\"\\n\\nThe optimised '2018' portfolio performs well. Yet, this is far from the optimal portfolio for 2019 (test) data.\")"
   ]
  },
  {
   "cell_type": "code",
   "execution_count": 59,
   "metadata": {
    "scrolled": false
   },
   "outputs": [
    {
     "name": "stdout",
     "output_type": "stream",
     "text": [
      "The weighting for the '2018 portfolio' was:\n",
      "           GOLD        JPM         BMY        VZ        MMM        UA\n",
      "[1,] 0.03697057 0.01184961 0.007240047 0.4372726 0.01161083 0.4594124\n",
      "            COTY       ENIC         MRO        DLB\n",
      "[1,] 0.001762522 0.01025108 0.005976546 0.01765382\n",
      "\n",
      "The weighting for the '2019 portfolio' was:\n",
      "          GOLD       JPM        BMY          VZ         MMM         UA\n",
      "[1,] 0.2212488 0.4531979 0.03911525 0.005524128 0.003001624 0.01083048\n",
      "          COTY       ENIC         MRO       DLB\n",
      "[1,] 0.2328452 0.01726432 0.004156274 0.0128161\n"
     ]
    },
    {
     "data": {
      "image/png": "[encoded data removed]",
      "text/plain": [
       "Plot with title \"Optimal Portfolios, 2018 vs. 2019\""
      ]
     },
     "metadata": {},
     "output_type": "display_data"
    }
   ],
   "source": [
    "# comparing weights\n",
    "cat(\"The weighting for the '2018 portfolio' was:\\n\")\n",
    "print(Optimizer2018@solution)\n",
    "colnames(Optimizer2019@solution) <- myStocks\n",
    "cat(\"\\nThe weighting for the '2019 portfolio' was:\\n\")\n",
    "print(Optimizer2019@solution)\n",
    "\n",
    "par(mfrow = c(1,2))\n",
    "\n",
    "barplot(Optimizer2018@solution,col=\"darkgreen\", horiz = T, xlim = c(0,.5), las = 2,\n",
    "        xlab = \"Weight (decimal)\", ylab = \"Stock\", main=\"Optimal Portfolios, 2018 vs. 2019\") \n",
    "barplot(Optimizer2019@solution,col=\"red\", horiz = T, xlim = c(0,.5), las = 2,\n",
    "        xlab = \"Weight (decimal)\", ylab = \"Stock\")"
   ]
  },
  {
   "cell_type": "markdown",
   "metadata": {},
   "source": [
    "Demonstrated by differences in weights and resultant returns, significant changes to the optimised '2018' portfolio need to be made, if it is to achieve optimal performance in 2019."
   ]
  },
  {
   "cell_type": "markdown",
   "metadata": {},
   "source": [
    "## 3. Comparison of the evolved portfolio with balanced and random portfolios"
   ]
  },
  {
   "cell_type": "markdown",
   "metadata": {},
   "source": [
    "\"Is the portfolio you evolved any good?  Compare the performance against an evenly balanced portfolio and the average of several runs of randomly generated portfolios. You could use run this comparison on both the training and the test data.\""
   ]
  },
  {
   "cell_type": "code",
   "execution_count": 10,
   "metadata": {},
   "outputs": [
    {
     "name": "stdout",
     "output_type": "stream",
     "text": [
      "The evolved portfolio, for the 2018 (train) set, gives a return portfolio return of:  18.42 % \n",
      "The evolved portfolio, for the 2019 (test) set, gives a return portfolio return of:  20.3 % \n",
      "\n",
      "The equally weighted portfolio, for the 2018 (train) set, gives a return portfolio return of:  -11.45 % \n",
      "The equally weighted portfolio, for the 2019 (test) set, gives a return portfolio return of:  25.39 % \n",
      "\n",
      "The 1st randomly weighted portfolio, for the 2018 (train) set, gives a return portfolio return of:  -17.81 % \n",
      "The 1st randomly weighted portfolio, for the 2019 (test) set, gives a return portfolio return of:  26.01 % \n",
      "\n",
      "The 2nd randomly weighted portfolio, for the 2018 (train) set, gives a return portfolio return of:  -6.2 % \n",
      "The 2nd randomly weighted portfolio, for the 2019 (test) set, gives a return portfolio return of:  20.33 %"
     ]
    }
   ],
   "source": [
    "weight_equal <- rep(x = 0.1,times = length(myStocks)) # equally weighted portfolio\n",
    "weight_rand1 <- runif(n=length(myStocks)) \n",
    "weight_rand1 <- weight_rand1 / sum(weight_rand1)      # randomly weighted portfolio (1)\n",
    "weight_rand2 <- runif(n=length(myStocks)) \n",
    "weight_rand2 <- weight_rand2 / sum(weight_rand2)      # randomly weighted portfolio (2)\n",
    "\n",
    "cat(\"The evolved portfolio, for the 2018 (train) set, gives a return portfolio return of: \",\n",
    "    round(((sum(Optimizer2018@solution * MeanReturn2018)+1)^252-1)*100,digits = 2),\"%\",\n",
    "    \"\\nThe evolved portfolio, for the 2019 (test) set, gives a return portfolio return of: \",\n",
    "    round(((sum(Optimizer2018@solution * MeanReturn2019)+1)^252-1)*100,digits = 2),\"%\",\n",
    "    \"\\n\\nThe equally weighted portfolio, for the 2018 (train) set, gives a return portfolio return of: \",\n",
    "    round(((sum(weight_equal * MeanReturn2018)+1)^252-1)*100,digits = 2),\"%\",\n",
    "    \"\\nThe equally weighted portfolio, for the 2019 (test) set, gives a return portfolio return of: \",\n",
    "    round(((sum(weight_equal * MeanReturn2019)+1)^252-1)*100,digits = 2),\"%\",\n",
    "    \"\\n\\nThe 1st randomly weighted portfolio, for the 2018 (train) set, gives a return portfolio return of: \",\n",
    "    round(((sum(weight_rand1 * MeanReturn2018)+1)^252-1)*100,digits = 2),\"%\",\n",
    "    \"\\nThe 1st randomly weighted portfolio, for the 2019 (test) set, gives a return portfolio return of: \",\n",
    "    round(((sum(weight_rand1 * MeanReturn2019)+1)^252-1)*100,digits = 2),\"%\",\n",
    "    \"\\n\\nThe 2nd randomly weighted portfolio, for the 2018 (train) set, gives a return portfolio return of: \",\n",
    "    round(((sum(weight_rand2 * MeanReturn2018)+1)^252-1)*100,digits = 2),\"%\",\n",
    "    \"\\nThe 2nd randomly weighted portfolio, for the 2019 (test) set, gives a return portfolio return of: \",\n",
    "    round(((sum(weight_rand2 * MeanReturn2019)+1)^252-1)*100,digits = 2),\"%\")"
   ]
  },
  {
   "cell_type": "markdown",
   "metadata": {},
   "source": [
    "Evaluating the performance of these random portfolios, the Optimised 2018 Portfolio actually performs the worst of all portfolios on the test (2019) dataset!\n",
    "\n",
    "(makes one wonder the robustness of Markowitz portfolio optimisation, in practice)"
   ]
  },
  {
   "cell_type": "markdown",
   "metadata": {},
   "source": [
    "## 4. Creation and evaluation of portfolios with differently balanced risk and return (to emulate a multi-objective approach)\n",
    "Within your fitness function your risk and return values will be evenly balanced. You can modify this to create differently balanced portfolios - e.g. at the extremes might be ones which only care about maximising returns or are very risk averse, and in between might be ones which prioritise risk over return and vice-versa. How do the weights and the performance of these portfolios compare?"
   ]
  },
  {
   "cell_type": "code",
   "execution_count": 125,
   "metadata": {
    "collapsed": true
   },
   "outputs": [
    {
     "name": "stdout",
     "output_type": "stream",
     "text": [
      "The weighting of the 'Maximum Return' portfolio is:  0.01327349 0.007178881 0.009764795 0.04512369 0.02953916 0.8361754 0.007162824 0.008290152 0.009284451 0.03420717"
     ]
    }
   ],
   "source": [
    "# 1. Maximum return\n",
    "MaximumReturn <- function(wt){\n",
    "  wt <- wt / sum(wt)                                  # weight\n",
    "  Return2018 <- (sum(wt * MeanReturn2018)+1)^252-1    # returns\n",
    "  return(Return2018)\n",
    "}\n",
    "MaximumReturnOptimizer <- ga(type = \"real-valued\", fitness = MaximumReturn,\n",
    "                             lower = rep(x = 0,times = length(myStocks)),\n",
    "                             upper = rep(x = 1,times = length(myStocks)), maxiter = 1000, names = myStocks, monitor = F)\n",
    "MaximumReturnOptimizer@solution <- MaximumReturnOptimizer@solution / sum(MaximumReturnOptimizer@solution)\n",
    "colnames(MaximumReturnOptimizer@solution) <- myStocks\n",
    "cat(\"The weighting of the 'Maximum Return' portfolio is: \", MaximumReturnOptimizer@solution)"
   ]
  },
  {
   "cell_type": "code",
   "execution_count": 124,
   "metadata": {
    "collapsed": true
   },
   "outputs": [
    {
     "name": "stdout",
     "output_type": "stream",
     "text": [
      "The optimal weighting of the 'Minimum Risk' portfolio is:  0.1692915 0.143871 0.1067161 0.2756601 0.01401276 0.001441472 0.04218623 0.1017958 0.001308653 0.1437163"
     ]
    }
   ],
   "source": [
    "# 2. Minimum risk\n",
    "MinimumRisk <- function(wt){\n",
    "  wt <- wt / sum(wt)                                  # weight\n",
    "  Risk2018 <- sqrt(t(wt) %*% (Covariance2018 %*% wt)) # risk\n",
    "  return(-Risk2018)                                   # '-' required for minimization problem\n",
    "}\n",
    "MinimumRiskOptimizer <- ga(type = \"real-valued\", fitness = MinimumRisk,\n",
    "                           lower = rep(x = 0,times = length(myStocks)),\n",
    "                           upper = rep(x = 1,times = length(myStocks)), maxiter = 1000, names = myStocks, monitor = F)\n",
    "MinimumRiskOptimizer@solution <- MinimumRiskOptimizer@solution / sum(MinimumRiskOptimizer@solution)\n",
    "colnames(MinimumRiskOptimizer@solution) <- myStocks\n",
    "cat(\"The optimal weighting of the 'Minimum Risk' portfolio is: \", MinimumRiskOptimizer@solution)"
   ]
  },
  {
   "cell_type": "code",
   "execution_count": 121,
   "metadata": {
    "collapsed": true
   },
   "outputs": [
    {
     "name": "stdout",
     "output_type": "stream",
     "text": [
      "The optimal weighting of the 'Adventurous' portfolio is:  0.02334463 0.02744123 0.01431099 0.220096 0.003832616 0.649129 0.005393173 0.006938833 0.01384078 0.03567273"
     ]
    }
   ],
   "source": [
    "# 3. 'Adventurous' (75:25 weighting)\n",
    "Adventurous <- function(wt){\n",
    "  wt <- wt / sum(wt)                                                    # weight\n",
    "  Return2018 <- (sum((wt*(75/25)) * MeanReturn2018)+1)^252-1            # greater returns\n",
    "  Risk2018 <- sqrt(t(wt*(75/25)) %*% (Covariance2018 %*% (wt*(75/25)))) # greater risk\n",
    "  Optimal2018 <- (Return2018 / Risk2018)                                # combination ('Sharpe ratio')\n",
    "  return(Optimal2018)\n",
    "}\n",
    "AdventurousOptimizer <- ga(type = \"real-valued\", fitness = Adventurous,\n",
    "                           lower = rep(x = 0,times = length(myStocks)),\n",
    "                           upper = rep(x = 1,times = length(myStocks)), maxiter = 1000, names = myStocks, monitor = F)\n",
    "AdventurousOptimizer@solution <- AdventurousOptimizer@solution / sum(AdventurousOptimizer@solution)\n",
    "colnames(AdventurousOptimizer@solution) <- myStocks\n",
    "cat(\"The optimal weighting of the 'Adventurous' portfolio is: \", AdventurousOptimizer@solution)"
   ]
  },
  {
   "cell_type": "code",
   "execution_count": 122,
   "metadata": {
    "collapsed": true
   },
   "outputs": [
    {
     "name": "stdout",
     "output_type": "stream",
     "text": [
      "The optimal weighting of the 'Cautious' portfolio is:  0.04140823 0.0119621 0.01340881 0.4487791 0.009315181 0.4448145 0.001187838 0.005189096 0.01074108 0.01319407"
     ]
    }
   ],
   "source": [
    "# 4. 'Cautious' (25:75 weighting)\n",
    "Cautious <- function(wt){\n",
    "  wt <- wt / sum(wt)                                                    # weight\n",
    "  Return2018 <- (sum((wt*(25/75)) * MeanReturn2018)+1)^252-1            # less returns\n",
    "  Risk2018 <- sqrt(t(wt*(25/75)) %*% (Covariance2018 %*% (wt*(25/75)))) # less risk\n",
    "  Optimal2018 <- (Return2018 / Risk2018)                                # combination ('Sharpe ratio')\n",
    "  return(Optimal2018)\n",
    "}\n",
    "CautiousOptimizer <- ga(type = \"real-valued\", fitness = Cautious,\n",
    "                        lower = rep(x = 0,times = length(myStocks)), \n",
    "                        upper = rep(x = 1,times = length(myStocks)), maxiter = 1000, names = myStocks, monitor = F)\n",
    "CautiousOptimizer@solution <- CautiousOptimizer@solution / sum(CautiousOptimizer@solution)\n",
    "colnames(CautiousOptimizer@solution) <- myStocks\n",
    "cat(\"The optimal weighting of the 'Cautious' portfolio is: \", CautiousOptimizer@solution)"
   ]
  },
  {
   "cell_type": "code",
   "execution_count": 117,
   "metadata": {},
   "outputs": [
    {
     "data": {
      "image/png": "[encoded data removed]",
      "text/plain": [
       "Plot with title \"Cautious portfolio\""
      ]
     },
     "metadata": {},
     "output_type": "display_data"
    }
   ],
   "source": [
    "par(mfrow = c(2,2))\n",
    "\n",
    "barplot(MaximumReturnOptimizer@solution,col=\"darkgreen\", horiz = T, xlim = c(0,1), las = 2,\n",
    "        xlab = \"Weight (decimal)\", ylab = \"Stock\", main=\"Maximum Return portfolio\") \n",
    "barplot(MinimumRiskOptimizer@solution,col=\"red\", horiz = T, xlim = c(0,1), las = 2, \n",
    "        xlab = \"Weight (decimal)\", ylab = \"Stock\", main=\"Minimum Risk portfolio\")\n",
    "barplot(AdventurousOptimizer@solution,col=\"yellow\", horiz = T, xlim = c(0,1), las = 2,\n",
    "        xlab = \"Weight (decimal)\", ylab = \"Stock\", main=\"Adventurous portfolio\") \n",
    "barplot(CautiousOptimizer@solution,col=\"blue\", horiz = T, xlim = c(0,1), las = 2,\n",
    "        xlab = \"Weight (decimal)\", ylab = \"Stock\", main=\"Cautious portfolio\")"
   ]
  },
  {
   "cell_type": "code",
   "execution_count": 123,
   "metadata": {},
   "outputs": [
    {
     "name": "stdout",
     "output_type": "stream",
     "text": [
      "The 'Maximum Return' portfolio, for the 2018 (train) set, gives a return of:  29.82 % \n",
      "The 'Maximum Return' portfolio, for the 2018 (train) set, gives a st.dev of:  0.03 \n",
      "\n",
      "The 'Minimum Risk' portfolio, for the 2018 (train) set, gives a return of:  -5.42 % \n",
      "The 'Minimum Risk' portfolio, for the 2018 (train) set, gives a st.dev of:  0.01 \n",
      "\n",
      "The 'Adventurous' portfolio, for the 2018 (train) set, gives a return of:  23.51 % \n",
      "The 'Adventurous' portfolio, for the 2018 (train) set, gives a st.dev of:  0.02 \n",
      "\n",
      "The 'Cautious' portfolio, for the 2018 (train) set, gives a return of:  18.26 % \n",
      "The 'Cautious' portfolio, for the 2018 (train) set, gives a st.dev of:  0.02"
     ]
    }
   ],
   "source": [
    "cat(\"The 'Maximum Return' portfolio, for the 2018 (train) set, gives a return of: \",\n",
    "    round(((sum(MaximumReturnOptimizer@solution * MeanReturn2018)+1)^252-1)*100,digits = 2),\"%\",\n",
    "    \"\\nThe 'Maximum Return' portfolio, for the 2018 (train) set, gives a st.dev of: \",\n",
    "    round(sqrt(t(as.numeric(MaximumReturnOptimizer@solution[1,])) %*%\n",
    "               (Covariance2018 %*% as.numeric(MaximumReturnOptimizer@solution[1,]))),2),\n",
    "    \"\\n\\nThe 'Minimum Risk' portfolio, for the 2018 (train) set, gives a return of: \",\n",
    "    round(((sum(MinimumRiskOptimizer@solution * MeanReturn2018)+1)^252-1)*100,digits = 2),\"%\",\n",
    "    \"\\nThe 'Minimum Risk' portfolio, for the 2018 (train) set, gives a st.dev of: \",\n",
    "    round(sqrt(t(as.numeric(MinimumRiskOptimizer@solution[1,])) %*%\n",
    "               (Covariance2018 %*% as.numeric(MinimumRiskOptimizer@solution[1,]))),2),\n",
    "    \"\\n\\nThe 'Adventurous' portfolio, for the 2018 (train) set, gives a return of: \",\n",
    "    round(((sum(AdventurousOptimizer@solution * MeanReturn2018)+1)^252-1)*100,digits = 2),\"%\",\n",
    "    \"\\nThe 'Adventurous' portfolio, for the 2018 (train) set, gives a st.dev of: \",\n",
    "    round(sqrt(t(as.numeric(AdventurousOptimizer@solution[1,])) %*%\n",
    "               (Covariance2018 %*% as.numeric(AdventurousOptimizer@solution[1,]))),2),\n",
    "    \"\\n\\nThe 'Cautious' portfolio, for the 2018 (train) set, gives a return of: \",\n",
    "    round(((sum(CautiousOptimizer@solution * MeanReturn2018)+1)^252-1)*100,digits = 2),\"%\",\n",
    "    \"\\nThe 'Cautious' portfolio, for the 2018 (train) set, gives a st.dev of: \",\n",
    "    round(sqrt(t(as.numeric(CautiousOptimizer@solution[1,])) %*% \n",
    "               (Covariance2018 %*% as.numeric(CautiousOptimizer@solution[1,]))),2))"
   ]
  },
  {
   "cell_type": "markdown",
   "metadata": {},
   "source": [
    "Clear differences persist in risk / return when maximising return or minimising risk."
   ]
  }
 ],
 "metadata": {
  "kernelspec": {
   "display_name": "R",
   "language": "R",
   "name": "ir"
  },
  "language_info": {
   "codemirror_mode": "r",
   "file_extension": ".r",
   "mimetype": "text/x-r-source",
   "name": "R",
   "pygments_lexer": "r",
   "version": "3.6.1"
  }
 },
 "nbformat": 4,
 "nbformat_minor": 4
}
