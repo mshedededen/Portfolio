{
 "cells": [
  {
   "cell_type": "markdown",
   "id": "artificial-approach",
   "metadata": {},
   "source": [
    "The objective of this project is to create a web scraper which finds jobs related to my query of \"junior data (analyst, engineer)\" in UK, Danish, or Norwegian locations."
   ]
  },
  {
   "cell_type": "code",
   "execution_count": 1,
   "id": "driven-screen",
   "metadata": {},
   "outputs": [],
   "source": [
    "# Libraries\n",
    "import csv                        # to export data\n",
    "from datetime import datetime     # retreive current date\n",
    "import requests                   # syndicate requests to retreive .html\n",
    "from bs4 import BeautifulSoup     # parse and extract data from Indeed.com\n",
    "import pandas as pd"
   ]
  },
  {
   "cell_type": "markdown",
   "id": "compound-pontiac",
   "metadata": {},
   "source": [
    "Indeed URLs look like this:\n",
    "\n",
    "https://uk.indeed.com/jobs?q=data+engineer&l=United+Kingdom&fromage=7\n",
    "\n",
    "Where it has \"q=\" and \"l=\" I will add into a function so it's easy to search for different queries."
   ]
  },
  {
   "cell_type": "code",
   "execution_count": 2,
   "id": "important-league",
   "metadata": {},
   "outputs": [
    {
     "name": "stdout",
     "output_type": "stream",
     "text": [
      "Demonstration URL:\n",
      " https://uk.indeed.com/jobs?q=data+analyst&l=United+Kingdom&fromage=3\n"
     ]
    }
   ],
   "source": [
    "# Function which creates URL according to our query\n",
    "def get_url_indeed(position, location):\n",
    "    # URL template\n",
    "    template_url = 'https://uk.indeed.com/jobs?q={}&l={}&fromage=3'\n",
    "    # allow arguments to be inserted into URL\n",
    "    final_url = template_url.format(position, location).replace(\" \", \"+\")\n",
    "    return (final_url)\n",
    "\n",
    "# Demonstration\n",
    "print('Demonstration URL:\\n',\n",
    "      get_url_indeed(position = 'data analyst',\n",
    "                     location = 'United Kingdom'))"
   ]
  },
  {
   "cell_type": "markdown",
   "id": "known-furniture",
   "metadata": {},
   "source": [
    "Now, to build a demo Web Scaper. For this we need to:\n",
    "- Get the **response** for the URL, using the *requests* library.\n",
    "- Use the *Beautiful Soup* library to 1) **parse** and then 2) **extract** the data.\n",
    "\n",
    "We wish to extract information about:\n",
    "- Job title.\n",
    "- Company.\n",
    "- Location.\n",
    "- Date of posting.\n",
    "- Summary.\n",
    "- Salary.\n",
    "- Orginal query.\n",
    "- URL."
   ]
  },
  {
   "cell_type": "code",
   "execution_count": 4,
   "id": "social-commonwealth",
   "metadata": {},
   "outputs": [
    {
     "name": "stdout",
     "output_type": "stream",
     "text": [
      "The number of job cards on each page is 15\n",
      "\n",
      "Selecting the first 5 jobs:\n",
      "\n",
      "Job title: Technical Accountant NHS AfC: Band 8a\n",
      "Company: St Helens & Knowsley Teaching Hospitals\n",
      "Location: Prescot\n",
      "Date: Just posted on 16-06-2021\n",
      "Summary: Full time - 37.5 hours per week (Working patterns may be negotiable). The Technical Accountant’s primary purposes are to develop and enact policies, systems,…\n",
      "Salary: £45,753 - £51,668 a year\n",
      "URL: https://www.indeed.com/rc/clk?jk=5ed52d00fbc95353&fccid=b937bf49aac15d18&vjs=3\n",
      "\n",
      "Job title: Trainee Accountant\n",
      "Company: Rothmans\n",
      "Location: Southampton\n",
      "Date: 2 days ago on 16-06-2021\n",
      "Summary: We are currently looking for an enthusiastic graduate to join our team as a Trainee Accountant based at our Southampton office in Chilworth. If you are a high…\n",
      "Salary: N/A\n",
      "URL: https://www.indeed.com/rc/clk?jk=bfc703ae8ae965e6&fccid=93d0c73593dc9935&vjs=3\n",
      "\n",
      "Job title: Assistant Accountant\n",
      "Company: SSE plc\n",
      "Location: Perthshire\n",
      "Date: 1 day ago on 16-06-2021\n",
      "Summary: Working Pattern: Permanent | Full Time | Flexible working options available. Monthly reporting process through preparation of journals and reviewing accounting…\n",
      "Salary: £25,000 - £37,400 a year\n",
      "URL: https://www.indeed.com/rc/clk?jk=8273860974cee2a6&fccid=02d1e1b8b5cb6556&vjs=3\n",
      "\n",
      "Job title: BookKeeper\n",
      "Company: Prohibition Partners\n",
      "Location: Home Based\n",
      "Date: 1 day ago on 16-06-2021\n",
      "Summary: Atalis will empower better decision making for regulators, operators and investors through global data, insights and analysis.\n",
      "Salary: N/A\n",
      "URL: https://www.indeed.com/rc/clk?jk=9649e9a3c5b34483&fccid=343922ec0902b16c&vjs=3\n",
      "\n",
      "Job title: Trainee Accountant\n",
      "Company: EF Education First\n",
      "Location: London\n",
      "Date: 2 days ago on 16-06-2021\n",
      "Summary: We would support a Financial qualification starting a qualification after 12 months. You will also have opportunities to work on individual and team projects…\n",
      "Salary: N/A\n",
      "URL: https://www.indeed.com/rc/clk?jk=71494dc0113b0320&fccid=b73e8c57e5544151&vjs=3\n",
      "\n"
     ]
    }
   ],
   "source": [
    "# Retreiving the response\n",
    "demo_response = requests.get(get_url_indeed(position = 'accountant',\n",
    "                                            location = 'united kingdom'))\n",
    "# Parsing the response\n",
    "demo_parse = BeautifulSoup(demo_response.text, 'html.parser')\n",
    "# Get all job cards which appear on a webpage\n",
    "demo_cards = demo_parse.find_all('div',                    # all 'div' classes\n",
    "                                 'jobsearch-SerpJobCard')  # part of webpage\n",
    "print('The number of job cards on each page is',len(demo_cards))\n",
    "print('\\nSelecting the first 5 jobs:\\n')\n",
    "# Extracting information from 1st entry (job card) on the webpage.\n",
    "for i in range(5):\n",
    "    demo_title = demo_cards[i].h2.a.get('title')\n",
    "    print('Job title:', demo_title)\n",
    "    demo_company = demo_cards[i].find('span', 'company').text.strip()\n",
    "    print('Company:', demo_company)\n",
    "    demo_location = demo_cards[i].find('div', 'recJobLoc').get('data-rc-loc')\n",
    "    print('Location:', demo_location)\n",
    "    demo_date = demo_cards[i].find('span', 'date date-a11y').text\n",
    "    print('Date:', demo_date, 'on', datetime.today().strftime('%d-%m-%Y'))\n",
    "    demo_summary = demo_cards[i].find('div', 'summary').text.strip().replace('\\n',' ')\n",
    "    print('Summary:',demo_summary)\n",
    "    try:\n",
    "        demo_salary = demo_cards[i].find('span','salaryText').text.strip()\n",
    "    except AttributeError:\n",
    "        demo_salary = 'N/A'\n",
    "    print('Salary:',demo_salary)\n",
    "    demo_url = demo_cards[i].h2.a.get('href')\n",
    "    print('URL:', 'https://www.indeed.com' + demo_url)\n",
    "    print('')"
   ]
  },
  {
   "cell_type": "markdown",
   "id": "behavioral-spending",
   "metadata": {},
   "source": [
    "# Full-code\n",
    "Let's now create a function which can be combined with the URL-maker function to simplify things. Aspects which must be improved upon include **1)** Accounting for errors, where no value for field element exists; **2)** Jumping to another page if there is one in the job list."
   ]
  },
  {
   "cell_type": "code",
   "execution_count": 17,
   "id": "brave-fruit",
   "metadata": {},
   "outputs": [
    {
     "data": {
      "text/plain": [
       "('Technical Accountant NHS AfC: Band 8a',\n",
       " 'St Helens & Knowsley Teaching Hospitals',\n",
       " 'Prescot',\n",
       " 'Just posted on 16-06-2021',\n",
       " 'Full time - 37.5 hours per week (Working patterns may be negotiable). The Technical Accountant’s primary purposes are to develop and enact policies, systems,…',\n",
       " '£45,753 - £51,668 a year',\n",
       " \"Main area Finance Grade NHS AfC: Band 8a Contract Permanent Hours Full time - 37.5 hours per week (Working patterns may be negotiable) Job ref 409-S3189108 Site Nightingale House, Whiston Hospital Town Prescot Salary £45,753 - £51,668 per annum Salary period Yearly Closing 20/06/2021 23:59 Interview date 29/06/2021 Job overview  A vacancy has arisen for a talented and proactive member of the Trust’s Financial Services department. The Technical Accountant’s primary purposes are to develop and enact policies, systems, models and processes in Financial Services, to take a strategic and analytical approach towards transactions including aged debts and debt management, and to contribute significantly to the Trust’s existing capital planning / reporting processes. The post-holder will have a key role in statutory reporting and financial audits.  We are especially interested in candidates with extremely strong technical skills, with significant financial accounting, modelling, and system improvement talents. An unswerving focus on quality outputs is key.  Interview Date: 29th June 2021  Main duties of the job  The Technical Accountant  generally acts under professional review of the HoCaTS and ADF - FS; may undertake any other duties commensurate with grade, as requested; and will typically work using a range of PC-based software applications (e.g. MS Excel and Access).  Working for our organisation  St Helens & Knowsley Teaching Hospitals NHS Trust is the BEST acute Trusts in England for the THIRD year running!  The Trust is currently the only acute Trust in Cheshire and Merseyside, and is one of few in the entire country, to achieve the title of OUTSTANDING, rated by the Care Quality Commission.  We provide a full range of acute adult services to our local population of circa 350,000 and provide tertiary services across a much wider area in the North West, North Wales and Isle of Man. We are also a Major Trauma Unit and the Mersey Regional Burns Unit.  Our '5 Star Patient Care' strategy is at the heart of all that we do; supporting our vision to provide world class services for all our patients by getting it right for every patient, every time.  Detailed job description and main responsibilities  Financial Governance and Technical Matters  Within a team of senior finance managers, being professionally responsible for the accurate and compliant production of elements of various regulatory returns, ensuring they are accurate, timely and satisfy audit requirements. Working across teams for their accurate and timely completion. Providing expert financial / transactions advice to senior managers and service users, referring novel or contentious matters to the HoCaTS as necessary. Undertaking a variety of highly complex analytical treasury management and forecasting duties, in liaison with the HoCaTS. In particular, taking a strategic whole-Trust and analytical view of aged debts, identifying trends and devising and evaluating strategies to improve cash recovery or identify debt adjustments for management recommendation, and managing the Trust’s escalation process, including recommending debt referrals and court action to the ADF-FS and HoCaTS. Ensuring that assigned elements of financial reporting (eg capital reporting) for Board / committees / NHSEI are compliant, accurate and in line with internal / national deadlines, through liaison with teams during financial month end, and designing / operating highly complex financial models. This includes the reporting of actuals and forecasts, analysing variance to plan for the readership, and recommending / implementing actions and solutions where appropriate. Interpreting highly complex legislation and accounting standards, using expert knowledge and sector insight to recommend amendments to Trust policy. Developing Trust-wide financial policies, systems and processes in liaison / partnership with other teams, involving performance standards / KPIs and timetables. Promoting the Trust’s Standing Financial Instructions (SFIs) and other constitutional, policy and financial governance matters Developing / managing various technical and ITDA revenue budgets, as well as contributing significantly to the Trust’s capital planning process (annual and multi-year) and the allocation of capital funding, as required by HoCaTS. Ensuring various reconciliations and other key financial control processes are adequate, completed, reviewed and tracked. Proactively developing services through efficiency (savings and quality) schemes, including benchmarking and liaison with external service providers, working on and contributing to cases for service transformation or partnership working if judged to be advantageous. Being professionally responsible for key finance information systems such as the cash management record and the fixed asset register.  Please refer to the attached job description and person specification for further vacancy information  Person specification Qualifications Essential criteria CCAB professional accountancy qualification and/or equivalent qualification or experience Honours degree or equivalent relevant experience Evidence of on-going CPD record and current membership of relevant accounting body Experience and Knowledge Essential criteria Previous Finance experience (min 5 yrs incl post qualification) including responsibility for the delivery of a range of Financial Services outputs Specialist knowledge over more than one Financial Services function acquired through experience, including, in particular, capital and treasury sections Knowledge and understanding of the NHS financial environment and regime Desirable criteria Experience of NHS Finance, including Agreement of Balances Skills and Abilities Essential criteria Strong communication skills - Communicate highly complex financial information, accounting treatments and business cases to non-finance managers, Capital Council and other groups; Communicate contentious information to a recipient that may not be receptive; and Communicate clearly and concisely, both verbally and in writing, including content for Committee papers and publications\",\n",
       " 'https://uk.indeed.com/rc/clk?jk=5ed52d00fbc95353&fccid=b937bf49aac15d18&vjs=3')"
      ]
     },
     "execution_count": 17,
     "metadata": {},
     "output_type": "execute_result"
    }
   ],
   "source": [
    "# Function which retrieves useful information\n",
    "def get_job_indeed(job_card):\n",
    "    job_title = job_card.h2.a.get('title')\n",
    "    job_company = job_card.find('span', 'company').text.strip()\n",
    "    job_location = job_card.find('div', 'recJobLoc').get('data-rc-loc')\n",
    "    job_date = job_card.find('span', 'date date-a11y').text + ' on ' + datetime.today().strftime('%d-%m-%Y')\n",
    "    job_summary = job_card.find('div', 'summary').text.strip().replace('\\n',' ')\n",
    "    try:\n",
    "        job_salary = job_card.find('span','salaryText').text.strip()\n",
    "    except AttributeError:\n",
    "        job_salary = '-'\n",
    "    job_url = 'https://uk.indeed.com' + job_card.h2.a.get('href')\n",
    "    #Description. As to get description we have to follow a link:\n",
    "    desc_template = 'https://www.indeed.com/viewjob?jk={}'\n",
    "    desc_data_jk = job_card.get('data-jk')\n",
    "    description_url = desc_template.format(desc_data_jk)\n",
    "    response_desc = requests.get(description_url)\n",
    "    soup_desc = BeautifulSoup(response_desc.text, 'html.parser')\n",
    "    \n",
    "    try:\n",
    "        job_description = soup_desc.find('div', 'jobsearch-jobDescriptionText').text.strip().replace('\\n', ' ')\n",
    "    except AttributeError:\n",
    "        job_description = '-'\n",
    "     \n",
    "    job_extract = (job_title, job_company, job_location, job_date, job_summary, job_salary, job_description, job_url)\n",
    "    return (job_extract)\n",
    "# Demonstration\n",
    "get_job_indeed(demo_cards[0])"
   ]
  },
  {
   "cell_type": "code",
   "execution_count": null,
   "id": "second-authority",
   "metadata": {},
   "outputs": [],
   "source": [
    "def main_function_jobs(position, location):\n",
    "    job_records = []\n",
    "    # Part 1: Retreive the appropriate URL using get_url_indeed\n",
    "    url = get_url_indeed(position, location)\n",
    "    # Part 2: Parsing and extracting the data\n",
    "    while True:     # Required to go through multiple pages\n",
    "        print(url)\n",
    "        # Retreiving the response\n",
    "        response = requests.get(url)\n",
    "        # Parsing the response\n",
    "        parse = BeautifulSoup(response.text, 'html.parser')\n",
    "        # Retreiving job cards found on webpage(s)\n",
    "        cards = parse.find_all('div', 'jobsearch-SerpJobCard')\n",
    "        \n",
    "        for i in cards:\n",
    "            job_record = get_job_indeed(i)\n",
    "            job_records.append(job_record)\n",
    "        \n",
    "        try:\n",
    "            url = 'https://uk.indeed.com' + parse.find('a', {'aria-label': 'Next'}).get('href')\n",
    "        except AttributeError:\n",
    "            break\n",
    "    return (job_records)"
   ]
  },
  {
   "cell_type": "code",
   "execution_count": null,
   "id": "oriented-lodging",
   "metadata": {},
   "outputs": [],
   "source": [
    "def webscrape_jobs(level, position, location):\n",
    "    # Running the webscraper for a given list of positions and locations at various levels\n",
    "    df = pd.DataFrame()\n",
    "    for location in location_list:\n",
    "        for position in position_list:\n",
    "            for level in level_list:\n",
    "                df = df.append(main_function_jobs(position = level + position, location = location))\n",
    "    # N.B. I may wish to filter the data, by title / description, at this stage - TBC\n",
    "    df.columns = ['job_title','job_company','job_location','job_date','job_summary','job_salary','job_url']\n",
    "    return (df)"
   ]
  },
  {
   "cell_type": "code",
   "execution_count": null,
   "id": "tight-prompt",
   "metadata": {},
   "outputs": [],
   "source": [
    "# Input job titles and locations I am interested in\n",
    "level_list = ['','junior ','graduate ']\n",
    "position_list = ['data analyst', 'data engineer', 'machine learning']\n",
    "location_list = ['United Kingdom']\n",
    "\n",
    "# Run WebScaper\n",
    "webscrape_jobs(level = level_list, position = position_list, location = location_list)"
   ]
  },
  {
   "cell_type": "markdown",
   "id": "comparable-fellow",
   "metadata": {},
   "source": [
    "Excellent. I have a database which contains a list of jobs according to my specification. ✌\n",
    "\n",
    "The next stage in this project would be to automate running of it, using PyCharm and a postgreSQL database. I could email it to myself..."
   ]
  }
 ],
 "metadata": {
  "kernelspec": {
   "display_name": "Python 3",
   "language": "python",
   "name": "python3"
  },
  "language_info": {
   "codemirror_mode": {
    "name": "ipython",
    "version": 3
   },
   "file_extension": ".py",
   "mimetype": "text/x-python",
   "name": "python",
   "nbconvert_exporter": "python",
   "pygments_lexer": "ipython3",
   "version": "3.8.3"
  }
 },
 "nbformat": 4,
 "nbformat_minor": 5
}
