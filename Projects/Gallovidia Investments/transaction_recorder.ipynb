{
 "cells": [
  {
   "cell_type": "code",
   "execution_count": null,
   "metadata": {},
   "outputs": [],
   "source": [
    "class gallovidia:\n",
    "    def __init__(self):\n",
    "        pass\n",
    "    def record_transaction(self):\n",
    "        # 1) Read in JSON file or create new JSON if file doesn't exist.\n",
    "        "
   ]
  },
  {
   "cell_type": "code",
   "execution_count": 15,
   "metadata": {},
   "outputs": [
    {
     "name": "stdout",
     "output_type": "stream",
     "text": [
      "JSON file detected. Reading.\n"
     ]
    }
   ],
   "source": [
    "import os\n",
    "import json\n",
    "\n",
    "path = \"C:/Users/PC/OneDrive/GALLOVIDIA INVESTMENTS/Miscellaneous/Transactions/transactions.json\"\n",
    "\n",
    "if os.path.isfile(path=path) == True:\n",
    "    with open(path, \"r\") as file:\n",
    "        transactions = json.load(file)\n",
    "        print(\"JSON file detected. Reading.\")\n",
    "else:\n",
    "    transactions = {}\n",
    "    with open(path, \"w\") as file:\n",
    "        json.dump(transactions, file)\n",
    "        print(\"JSON file not detected. A new transactions log JSON has been created.\")\n",
    "\n"
   ]
  },
  {
   "cell_type": "code",
   "execution_count": 7,
   "metadata": {},
   "outputs": [
    {
     "ename": "ValueError",
     "evalue": "could not convert string to float: ''",
     "output_type": "error",
     "traceback": [
      "\u001b[1;31m---------------------------------------------------------------------------\u001b[0m",
      "\u001b[1;31mValueError\u001b[0m                                Traceback (most recent call last)",
      "Cell \u001b[1;32mIn[7], line 14\u001b[0m\n\u001b[0;32m      1\u001b[0m \u001b[39mimport\u001b[39;00m \u001b[39mjson\u001b[39;00m\n\u001b[0;32m      3\u001b[0m \u001b[39m# # Load the transaction data from a JSON file\u001b[39;00m\n\u001b[0;32m      4\u001b[0m \u001b[39m# path = \"C:/Users/PC/OneDrive/GALLOVIDIA INVESTMENTS/Miscellaneous/Transactions/transactions.json\"\u001b[39;00m\n\u001b[0;32m      5\u001b[0m \n\u001b[1;32m   (...)\u001b[0m\n\u001b[0;32m      8\u001b[0m \n\u001b[0;32m      9\u001b[0m \u001b[39m# Prompt the user to enter transaction details\u001b[39;00m\n\u001b[0;32m     10\u001b[0m transaction \u001b[39m=\u001b[39m {\n\u001b[0;32m     11\u001b[0m     \u001b[39m\"\u001b[39m\u001b[39mdate\u001b[39m\u001b[39m\"\u001b[39m: \u001b[39minput\u001b[39m(\u001b[39m\"\u001b[39m\u001b[39mEnter transaction date (YYYY-MM-DD): \u001b[39m\u001b[39m\"\u001b[39m),\n\u001b[0;32m     12\u001b[0m     \u001b[39m\"\u001b[39m\u001b[39maccount\u001b[39m\u001b[39m\"\u001b[39m: \u001b[39minput\u001b[39m(\u001b[39m\"\u001b[39m\u001b[39mEnter account name: \u001b[39m\u001b[39m\"\u001b[39m),\n\u001b[0;32m     13\u001b[0m     \u001b[39m\"\u001b[39m\u001b[39msecurity\u001b[39m\u001b[39m\"\u001b[39m: \u001b[39minput\u001b[39m(\u001b[39m\"\u001b[39m\u001b[39mEnter security name: \u001b[39m\u001b[39m\"\u001b[39m),\n\u001b[1;32m---> 14\u001b[0m     \u001b[39m\"\u001b[39m\u001b[39mvalue\u001b[39m\u001b[39m\"\u001b[39m:\u001b[39mfloat\u001b[39;49m(\u001b[39minput\u001b[39;49m(\u001b[39m\"\u001b[39;49m\u001b[39mEnter value of transaction: \u001b[39;49m\u001b[39m\"\u001b[39;49m)),\n\u001b[0;32m     15\u001b[0m     \u001b[39m\"\u001b[39m\u001b[39mquantity\u001b[39m\u001b[39m\"\u001b[39m: \u001b[39mfloat\u001b[39m(\u001b[39minput\u001b[39m(\u001b[39m\"\u001b[39m\u001b[39mEnter quantity: \u001b[39m\u001b[39m\"\u001b[39m)),\n\u001b[0;32m     16\u001b[0m     \u001b[39m\"\u001b[39m\u001b[39mprice\u001b[39m\u001b[39m\"\u001b[39m: \u001b[39mfloat\u001b[39m(\u001b[39minput\u001b[39m(\u001b[39m\"\u001b[39m\u001b[39mEnter price: \u001b[39m\u001b[39m\"\u001b[39m)),\n\u001b[0;32m     17\u001b[0m     \u001b[39m\"\u001b[39m\u001b[39mtype\u001b[39m\u001b[39m\"\u001b[39m: \u001b[39minput\u001b[39m(\u001b[39m\"\u001b[39m\u001b[39mEnter transaction type (buy/sell/dividend): \u001b[39m\u001b[39m\"\u001b[39m),\n\u001b[0;32m     18\u001b[0m     \u001b[39m\"\u001b[39m\u001b[39mfx_rate\u001b[39m\u001b[39m\"\u001b[39m: \u001b[39mfloat\u001b[39m(\u001b[39minput\u001b[39m(\u001b[39m\"\u001b[39m\u001b[39mEnter FX rate (if applicable): \u001b[39m\u001b[39m\"\u001b[39m) \u001b[39mor\u001b[39;00m \u001b[39m1.0\u001b[39m),\n\u001b[0;32m     19\u001b[0m     \u001b[39m\"\u001b[39m\u001b[39mfees\u001b[39m\u001b[39m\"\u001b[39m: \u001b[39mfloat\u001b[39m(\u001b[39minput\u001b[39m(\u001b[39m\"\u001b[39m\u001b[39mEnter fees (if applicable): \u001b[39m\u001b[39m\"\u001b[39m) \u001b[39mor\u001b[39;00m \u001b[39m0.0\u001b[39m),\n\u001b[0;32m     20\u001b[0m }\n",
      "\u001b[1;31mValueError\u001b[0m: could not convert string to float: ''"
     ]
    }
   ],
   "source": [
    "import json\n",
    "\n",
    "# # Load the transaction data from a JSON file\n",
    "# path = \"C:/Users/PC/OneDrive/GALLOVIDIA INVESTMENTS/Miscellaneous/Transactions/transactions.json\"\n",
    "\n",
    "# with open(path, \"r\") as f:\n",
    "#     transactions = json.load(f)\n",
    "\n",
    "# Prompt the user to enter transaction details\n",
    "transaction = {\n",
    "    \"date\": input(\"Enter transaction date (YYYY-MM-DD): \"),\n",
    "    \"account\": input(\"Enter account name: \"),\n",
    "    \"security\": input(\"Enter security name: \"),\n",
    "    \"value\":float(input(\"Enter value of transaction: \")),\n",
    "    \"quantity\": float(input(\"Enter quantity: \")),\n",
    "    \"price\": float(input(\"Enter price: \")),\n",
    "    \"type\": input(\"Enter transaction type (buy/sell/dividend): \"),\n",
    "    \"fx_rate\": float(input(\"Enter FX rate (if applicable): \") or 1.0),\n",
    "    \"fees\": float(input(\"Enter fees (if applicable): \") or 0.0),\n",
    "}\n",
    "\n",
    "# Add the new transaction to the list of transactions\n",
    "# transactions.append(transaction)\n",
    "\n",
    "# # Save the updated transaction data back to the JSON file\n",
    "# with open(\"transactions.json\", \"w\") as f:\n",
    "#     json.dump(transactions, f)\n"
   ]
  },
  {
   "cell_type": "code",
   "execution_count": null,
   "metadata": {},
   "outputs": [],
   "source": []
  }
 ],
 "metadata": {
  "kernelspec": {
   "display_name": "base",
   "language": "python",
   "name": "python3"
  },
  "language_info": {
   "codemirror_mode": {
    "name": "ipython",
    "version": 3
   },
   "file_extension": ".py",
   "mimetype": "text/x-python",
   "name": "python",
   "nbconvert_exporter": "python",
   "pygments_lexer": "ipython3",
   "version": "3.10.9"
  },
  "orig_nbformat": 4
 },
 "nbformat": 4,
 "nbformat_minor": 2
}
